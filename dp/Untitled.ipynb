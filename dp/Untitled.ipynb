{
 "cells": [
  {
   "cell_type": "code",
   "execution_count": 32,
   "metadata": {},
   "outputs": [],
   "source": [
    "import nilmtk\n",
    "from nilmtk.dataset_converters import convert_redd\n",
    "from nilmtk import DataSet\n",
    "from nilmtk.utils import print_dict\n",
    "from bokeh.io import output_file, show\n",
    "from bokeh.layouts import gridplot\n",
    "from bokeh.palettes import Viridis3\n",
    "from bokeh.plotting import figure\n",
    "from bokeh.palettes import Dark2_5 as palette\n",
    "import itertools  \n",
    "from bokeh.palettes import Category10, Set3, Paired, Pastel2\n",
    "from bokeh.palettes import brewer\n",
    "from bokeh.io import output_file, show\n",
    "from bokeh.plotting import figure"
   ]
  },
  {
   "cell_type": "code",
   "execution_count": 33,
   "metadata": {},
   "outputs": [],
   "source": [
    "import pandas as pd\n",
    "import lapnoise as lap\n",
    "def add_noise(filepath):\n",
    "    df = pd.read_csv(filepath, index_col='timestamp', parse_dates=True).fillna(0)\n",
    "    df['active'] = df['active']+lap.laprnd(0,0.031)\n",
    "    return df\n",
    "noise = add_noise('fridge.csv').resample(rule='H').mean()"
   ]
  },
  {
   "cell_type": "code",
   "execution_count": 34,
   "metadata": {},
   "outputs": [],
   "source": [
    "p = figure(x_axis_label='timestamp', y_axis_label ='power', x_axis_type='datetime', title='test')\n",
    "p.line(noise.index, noise['active'], color=\"navy\", legend=\"noise\")\n",
    "output_file('test.html')\n",
    "show(p)"
   ]
  },
  {
   "cell_type": "code",
   "execution_count": null,
   "metadata": {},
   "outputs": [],
   "source": []
  }
 ],
 "metadata": {
  "kernelspec": {
   "display_name": "Python 3",
   "language": "python",
   "name": "python3"
  },
  "language_info": {
   "codemirror_mode": {
    "name": "ipython",
    "version": 3
   },
   "file_extension": ".py",
   "mimetype": "text/x-python",
   "name": "python",
   "nbconvert_exporter": "python",
   "pygments_lexer": "ipython3",
   "version": "3.6.7"
  }
 },
 "nbformat": 4,
 "nbformat_minor": 2
}
